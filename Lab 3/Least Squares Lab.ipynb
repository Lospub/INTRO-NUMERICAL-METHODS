{
 "cells": [
  {
   "cell_type": "markdown",
   "metadata": {},
   "source": [
    "<h2>Lab 3: Least Squares</h2>\n",
    "\n",
    "<b>Demo Date: </b> Oct. 13 <br>\n",
    "<b>Due Date: </b> Oct. 15\n",
    "\n",
    "In this lab you will implement two algorithms for solving an ill-conditioned least squares problem. We create an artificial and overdetermined least-squares problem by removing two columns of a $10 \\times 10$ Hilbert matrix, a classic ill-conditioned matrix. As we remove the two columns from the matrix it is no longer a Hilbert matrix, but it creates an overdetermined system with a large condition number: $\\approx 3,796,554,168$.\n",
    "\n",
    "Implement an algorithm that you believe will compute the value of $x$ for the least squares problem $Ax \\approx b$ as accurately as the problem allows. You will also implement an algorithm that you believe to produce inaccurate solutions due to the large condition number of the system. In this lab you do not need to worry about having a fast implementation, any non-vectorized implementation will be enough. \n",
    "\n",
    "Compare the two solutions in terms of the norm of their residual vector $Ax - b$. In the demo of your lab you should be able to explain your choices of algorithms and the results you obtained. Why did one method produce a solution with a smaller residual than the other? "
   ]
  },
  {
   "cell_type": "code",
   "execution_count": 1,
   "metadata": {},
   "outputs": [
    {
     "name": "stdout",
     "output_type": "stream",
     "text": [
      "Condition number of A:  3796554172.5006285\n"
     ]
    }
   ],
   "source": [
    "import numpy as np\n",
    "import copy\n",
    "import random\n",
    "from scipy.linalg import hilbert\n",
    "from scipy.optimize import lsq_linear\n",
    "\n",
    "b = np.ones(10)\n",
    "A = hilbert(10)\n",
    "A = np.delete(A, 5, 1)\n",
    "A = np.delete(A, 4, 1)\n",
    "\n",
    "print('Condition number of A: ', np.linalg.norm(A) * np.linalg.norm(np.linalg.pinv(A)))\n",
    "\n",
    "# Use this test instance while developing the algorithms. \n",
    "# This instance is much easier to debug than the ill-conditioned problem above. \n",
    "A_test = np.array([[1, 2, 2], [4, 4, 2], [4, 6, 4]], dtype=float)\n",
    "b_test = np.array([3, 6, 10], dtype=float)\n",
    "\n"
   ]
  },
  {
   "cell_type": "code",
   "execution_count": 2,
   "metadata": {},
   "outputs": [],
   "source": [
    "def back_substituion(U, b):\n",
    "    x = np.zeros((b.shape[0]))\n",
    "    for j in range(U.shape[1]-1,-1,-1):\n",
    "        # singular matrix\n",
    "        if U[j][j] == 0:\n",
    "            break \n",
    "        x[j] = b[j]/ U[j][j]\n",
    "    \n",
    "        for i in range(0,j):\n",
    "            b[i] = b[i] - U[i][j] * x[j]\n",
    "    return x.transpose()"
   ]
  },
  {
   "cell_type": "code",
   "execution_count": 7,
   "metadata": {},
   "outputs": [
    {
     "name": "stdout",
     "output_type": "stream",
     "text": [
      "x:\n",
      " [-4.13804873e+00  1.86609680e+02 -1.76040212e+03  4.79070453e+03\n",
      " -7.90389559e+04  2.12680538e+05 -2.08355829e+05  7.15781753e+04]\n",
      "r:\n",
      " 1.309788585467328e-05\n"
     ]
    }
   ],
   "source": [
    "def qr_MGS(A):\n",
    "    Q = np.zeros((A.shape[0], A.shape[0]), dtype=float)\n",
    "    R = np.zeros((A.shape[1], A.shape[1]), dtype=float)\n",
    "    for k in range(0, A.shape[1]):\n",
    "        #R[k, k] = np.linalg.norm(A[:, k])\n",
    "        R[k, k] = np.sqrt(np.dot(A[:, k], A[:, k]))\n",
    "        # stop if linear dependent\n",
    "        if R[k, k] == 0:\n",
    "            break\n",
    "        #normalize current column\n",
    "        Q[:, k] = A[:, k]/R[k, k]\n",
    "        # substract from succeeding columns their components in current column\n",
    "        for j in range(k + 1, A.shape[1]):\n",
    "            R[k, j] = np.dot((Q[:,k].T),A[:, j])\n",
    "            A[:, j] = A[:, j] - np.dot(R[k, j],Q[:, k])\n",
    "    return Q,R\n",
    "m, n = A.shape\n",
    "Q, R = qr_MGS(copy.deepcopy(A))\n",
    "c = Q.T.dot(b)\n",
    "c1 = c[:n]\n",
    "#c2 = c[m-n+1:]\n",
    "#expected_r = np.linalg.norm(c2)\n",
    "\n",
    "# find x using back substituion\n",
    "x = back_substituion(R, c1)\n",
    "print('x:\\n',x)\n",
    "r_ = np.linalg.norm(A.dot(x)-b)\n",
    "print('r:\\n',r_)\n",
    "#print(expected_r)"
   ]
  },
  {
   "cell_type": "code",
   "execution_count": 4,
   "metadata": {},
   "outputs": [],
   "source": [
    "def forward_substituion(L, b):\n",
    "    x = np.zeros((b.shape[0]))\n",
    "    for j in range(0, L.shape[1]):\n",
    "        # singular matrix\n",
    "        if L[j][j] == 0:\n",
    "            break \n",
    "        x[j] = b[j]/ L[j][j]\n",
    "    \n",
    "        for i in range(j, L.shape[0]):\n",
    "            b[i] = b[i] - L[i][j] * x[j]\n",
    "    return x"
   ]
  },
  {
   "cell_type": "code",
   "execution_count": 5,
   "metadata": {},
   "outputs": [],
   "source": [
    "def lu_factor(A):\n",
    "    L = np.eye(A.shape[0])\n",
    "    U = A.copy()\n",
    "    for k in range(U.shape[1]):\n",
    "        if U[k][k] == 0:\n",
    "            break\n",
    "        temp = U[k+1:,k]/U[k,k]\n",
    "        L[k+1:,k] = temp\n",
    "        # adding the dimention to increase the shape of the temp, to make temp*U[k] caculable\n",
    "        # here is the citation for adding dimention：\n",
    "        # https://numpy.org/doc/stable/reference/generated/numpy.expand_dims.html\n",
    "        temp = np.expand_dims(temp, axis=1)\n",
    "        U[k+1:] = U[k+1:] - np.multiply(temp,U[k])\n",
    "        # print(U[k])\n",
    "        # print(U[k+1:, k]/U[k, k] * U[k])\n",
    "        # print(U[k+1:, k]/U[k, k])\n",
    "    #print(U)\n",
    "    #print(L)    \n",
    "        \n",
    "    return L, U"
   ]
  },
  {
   "cell_type": "code",
   "execution_count": 10,
   "metadata": {},
   "outputs": [
    {
     "name": "stdout",
     "output_type": "stream",
     "text": [
      "x:\n",
      " [ 4.35935965e+00 -1.42801682e+02  9.69400785e+02 -1.83950836e+03\n",
      "  3.88340382e+03  6.10490621e+03 -1.99319729e+04  1.10156338e+04]\n",
      "r:\n",
      " 0.00013443774141366037\n"
     ]
    }
   ],
   "source": [
    "def lsq_Nor_Eq(A, b):\n",
    "    #ATAx = ATb\n",
    "    A1 = np.dot(A.T, A)\n",
    "    b1 = np.dot(A.T, b)\n",
    "    L, U = lu_factor(copy.deepcopy(A1))\n",
    "    y = forward_substituion(L, copy.deepcopy(b1))\n",
    "    #print(y)\n",
    "    x = back_substituion(U, y)\n",
    "    return x\n",
    "\n",
    "x1 = lsq_Nor_Eq(copy.deepcopy(A), copy.deepcopy(b))\n",
    "print('x:\\n',x1)\n",
    "r_1 = np.linalg.norm(A.dot(x)-b)\n",
    "print('r:\\n',r_1)"
   ]
  },
  {
   "cell_type": "code",
   "execution_count": null,
   "metadata": {},
   "outputs": [],
   "source": []
  },
  {
   "cell_type": "code",
   "execution_count": null,
   "metadata": {},
   "outputs": [],
   "source": []
  },
  {
   "cell_type": "code",
   "execution_count": null,
   "metadata": {},
   "outputs": [],
   "source": []
  }
 ],
 "metadata": {
  "kernelspec": {
   "display_name": "Python 3",
   "language": "python",
   "name": "python3"
  },
  "language_info": {
   "codemirror_mode": {
    "name": "ipython",
    "version": 3
   },
   "file_extension": ".py",
   "mimetype": "text/x-python",
   "name": "python",
   "nbconvert_exporter": "python",
   "pygments_lexer": "ipython3",
   "version": "3.8.5"
  }
 },
 "nbformat": 4,
 "nbformat_minor": 4
}
