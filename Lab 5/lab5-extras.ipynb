{
 "cells": [
  {
   "cell_type": "markdown",
   "metadata": {},
   "source": [
    "# Lab 5 - Hazel's Extras\n",
    "## Virtual Environment\n",
    "\n",
    "The instructions in the lab should be:\n",
    "\n",
    "```.sh\n",
    "pip install keras tensorflow~=2.2\n",
    "```\n",
    "\n",
    "If you get the error `keras requires tensorflow` this could be because it installed tensorflow **3** and not tensorflow **2**. Generally, to recover from this kind of thing, you can just redownload your virtual environment. Suppose your virtual environment is named `venv` (note the prof calls his `env`):\n",
    "\n",
    "1. Delete your old virtual environment: `rm -rvf venv`\n",
    "2. Create a new virtual environment: `virtualenv -p python3 venv` or `python3 -m virtualenv -p python3 venv`.\n",
    "3. Enter your new virtual environment: `source venv/bin/activate`\n",
    "4. Install jupyter notebook, matplotlib (pyplot), pandas, keras, and tensorflow 2: `pip install notebook matplotlib pandas keras tensorflow~=2.2 \"numpy<1.19.0\" \"h5py<2.11.0\"`\n",
    "5. start jupyter notebook: `jupyter notebook`\n",
    "\n",
    "\n",
    "\n"
   ]
  },
  {
   "cell_type": "markdown",
   "metadata": {},
   "source": [
    "## Notation\n",
    "\n",
    "$i$ is a digit in 0, 1, 2, 3, 4, 5, 6, 7, 8, 9.\n",
    "\n",
    "$j$ is the pixel number in $(0,0)\\dots(27,27)$.\n",
    "\n",
    "$m$ is the number of pictures (20000).\n",
    "\n",
    "$k$ is a picture # in $0\\dots 19999$.\n",
    "\n",
    "$x_k$ is a picture: it has $28\\times 28=784$ pixel brightness values.\n",
    "\n",
    "$w_{i,j}$ is a weight that represents how much the brightness of\n",
    "pixel $j$ contributes to calling the picture a picture of digit $i$.\n",
    "\n",
    "$W$ is the $10\\times 784$ matrix of all $10\\times 28\\times 28$ values for $w_{i,j}$.\n",
    "\n",
    "$b_i$ is an offset for digit $i$.\n",
    "\n",
    "$B$ is a vector of all 10 elements $b_i$.\n",
    "\n",
    "$X$ is a $784\\times m$ matrix of picture data.\n",
    "\n",
    "$Y$ is the $10\\times m$ matrix of training data.\n",
    "\n",
    "Then how much does our neural network $\\left[W\\ B\\right]$\n",
    "think picture $m$ looks like digit $i$ is the following formula:\n",
    "\n",
    "\\begin{align*}\n",
    "h_i\\left(x_k\\right) &= w_i\\cdot x_k + b_i\n",
    "\\\\\n",
    "H\\left(x_k\\right) &= W\\cdot x_k + B\n",
    "\\end{align*}\n",
    "\n",
    "The largest $h_i$ wins. "
   ]
  },
  {
   "cell_type": "markdown",
   "metadata": {},
   "source": [
    "Example: suppose $h_{0\\dots 9}$ is $[0.1, 0.2, 0.3, 0.1, 0.9, 0.0, 0.1, 0.0, 0.2, 0.1, 0.0]$, we guess this is a picture of digit 4 because\n",
    "\n",
    "$h_4$ > $h_{i\\neq 4}$\n",
    "\n",
    "Our goal, is to try to find values for these 28x28x10 $w$ weights and 10 $b$ weights so that $h_{0\\dots 9}$ looks as close to $[0, 0, 0, 0.0, 1.0, 0.0, 0.0, 0.0, 0.0, 0.0]$\n",
    "\n",
    "But we're going to be using 20,000 pictures!\n",
    "\n",
    "So we're going to have a matrix $\\hat{Y}$ (10x20000) and maybe just column 127 is $[0.1, 0.2, 0.3, 0.9, 0.1, 0.0, 0.1, 0.0, 0.2, 0.1, 0.0]$.\n",
    "\n",
    "But we want $\\hat{Y}$ to be as close to the ideal $Y$ matrix as possible. The ideal $Y$ matrix would have one 1.0 in each column, and the rest of the elements would be 0.0.\n",
    "\n",
    "However, when we're training we want to get ${\\hat{Y}_{i,k}}$ as close to ZERO if image $k$ is not a picture of digit $i$, and as close to ONE if image $k$ is a picture of digit $i$.\n",
    "\n",
    "Example: if image 127 is a picture of the digit 4, column 127 of $Y$ should be \n",
    "$\\left[0,0,0,0,1,0,0,0,0,0 \\right]^{T}$. And we want to get $\\hat{Y}$ as close to that as possible."
   ]
  },
  {
   "cell_type": "markdown",
   "metadata": {},
   "source": [
    "For each digit $i$ in 0, 1, 2, 3, 4, 5, 6, 7, 8, 9. We have an equation that looks like \n",
    "\n",
    "\\begin{align*}\n",
    "\\hat Y &= W\\cdot X + B\n",
    "\\\\\n",
    "\\hat{y}_{i,k} &= \\sum_j w_{i,j}x_{j,k} + b_i\n",
    "\\end{align*}\n",
    "\n",
    "Example (which is almost certainly NOT true): Imagine some pixel at (10, 14) in the picture is only WHITE when the picture is a picture of the digit 4. Then, we'd want the $w_{4_{10,14}}$ weight to be really BIG, to help the $h_{w_4}$ value to be 1.0."
   ]
  },
  {
   "cell_type": "markdown",
   "metadata": {},
   "source": [
    "So how are we going to get there?\n",
    "\n",
    "We're going to use something called GRADIENT DESCENT.\n",
    "\n",
    "Imagine you're standing in a forest on a hill.\n",
    "\n",
    "Walking down a hill would be an example of doing gradient descent with 2 weights. The two weights are your latitude,longitude on a map. The elevation goes down as you walk down hill. Then you want to get to the lowest elevation. Maybe you want to get to the ocean.\n",
    "\n",
    "This lab is similar, but instead of 2 weights, we have 28x28x10+10 weights. Our elevation is going to be this $J$ function, called the error function, which we want to minimize. The $J$ function represents how WRONG we are, when we try to decide what digit each picture is.\n",
    "\n",
    "The error function (it's a scalar!):\n",
    "\n",
    "\\begin{equation*}\n",
    "J(w_i,b_i) = \\frac{1}{2m} \\sum_{k=0}^{m-1} (w_i\\cdot x_k + b_i - y_{k,i})^2\n",
    "\\end{equation*}\n",
    "\n",
    "Where $y_{k,i}$ is 1.0 if picture $k$ is a picture of digit $i$, or its 0.0 if its not."
   ]
  },
  {
   "cell_type": "markdown",
   "metadata": {},
   "source": [
    "$\\alpha$ is just some number (scalar). It's the learning rate. It's like how big of a step we're going to take.\n",
    "\n",
    "If $j$ is the pixel #.\n",
    "\n",
    "We can find the \"downhill\" direction like this for digit $i$ using 785 equations:\n",
    "\\begin{align*}\n",
    "w_{i, j} &\\gets w_{i, j} - \\alpha \\frac{\\partial J(w_{i},b_i)}{\\partial w_{i, j}} \\forall j \\in (0,0)\\dots(28,28) \\\\\n",
    "b_{i} &\\gets b_{i} - \\alpha \\frac{\\partial J(w_{i},b_i)}{\\partial b_i}\n",
    "\\end{align*}"
   ]
  },
  {
   "cell_type": "markdown",
   "metadata": {},
   "source": [
    "Where:\n",
    "\n",
    "\\begin{equation*}\n",
    "\\end{equation*}"
   ]
  },
  {
   "cell_type": "markdown",
   "metadata": {},
   "source": [
    "This is the same as:\n",
    "\n",
    "\\begin{equation*}\n",
    "J(W,B) = \\frac{1}{2m} (W\\cdot X + B\\cdot \\mathbf{1}_{1\\times m} - Y)^2\n",
    "\\end{equation*}"
   ]
  },
  {
   "cell_type": "code",
   "execution_count": 5,
   "metadata": {},
   "outputs": [
    {
     "name": "stdout",
     "output_type": "stream",
     "text": [
      "7850\n"
     ]
    }
   ],
   "source": [
    "print(28*28*10+10)"
   ]
  },
  {
   "cell_type": "code",
   "execution_count": 6,
   "metadata": {},
   "outputs": [
    {
     "name": "stdout",
     "output_type": "stream",
     "text": [
      "157000000000\n"
     ]
    }
   ],
   "source": [
    "print(1000*20000*7850)"
   ]
  },
  {
   "cell_type": "code",
   "execution_count": 8,
   "metadata": {},
   "outputs": [
    {
     "name": "stdout",
     "output_type": "stream",
     "text": [
      "7850 eqns per iteration\n"
     ]
    }
   ],
   "source": [
    "print(f\"{28*28*10+10} eqns per iteration\")"
   ]
  },
  {
   "cell_type": "code",
   "execution_count": null,
   "metadata": {},
   "outputs": [],
   "source": []
  },
  {
   "cell_type": "code",
   "execution_count": null,
   "metadata": {},
   "outputs": [],
   "source": []
  }
 ],
 "metadata": {
  "kernelspec": {
   "display_name": "Python 3",
   "language": "python",
   "name": "python3"
  },
  "language_info": {
   "codemirror_mode": {
    "name": "ipython",
    "version": 3
   },
   "file_extension": ".py",
   "mimetype": "text/x-python",
   "name": "python",
   "nbconvert_exporter": "python",
   "pygments_lexer": "ipython3",
   "version": "3.8.5"
  }
 },
 "nbformat": 4,
 "nbformat_minor": 2
}
